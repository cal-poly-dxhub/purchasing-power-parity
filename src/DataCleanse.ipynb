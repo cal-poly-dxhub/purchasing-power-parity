{
    "cells": [
        {
            "cell_type": "code",
            "execution_count": null,
            "metadata": {},
            "outputs": [],
            "source": [
                "import boto3\n",
                "from boto3.dynamodb.conditions import Key\n",
                "import pandas as pd\n",
                "from pandas import json_normalize\n",
                "import numpy as np\n",
                "from IPython.core.display import display, HTML\n"
            ]
        },
        {
            "cell_type": "code",
            "execution_count": null,
            "metadata": {},
            "outputs": [],
            "source": [
                "AWS_ACCESS_KEY_ID = ''\n",
                "AWS_SECRET_ACCESS_KEY = ''"
            ]
        },
        {
            "cell_type": "code",
            "execution_count": null,
            "metadata": {},
            "outputs": [],
            "source": [
                "# grab product-data DB\n",
                "dynamodb = boto3.resource('dynamodb', aws_access_key_id=AWS_SECRET_ACCESS_KEY,\n",
                "                          aws_secret_access_key=AWS_SECRET_ACCESS_KEY, region_name='us-west-2')\n",
                "table = dynamodb.Table('product-data')\n",
                "table.creation_date_time\n",
                "\n",
                "\n"
            ]
        },
        {
            "cell_type": "code",
            "execution_count": null,
            "metadata": {},
            "outputs": [],
            "source": [
                "# add item to table\n",
                "# note: if field is mandatory \n",
                "\n",
                "# table.put_item(Item={\"Did It Work?\" : \"Yes\", \n",
                "#                     \"id\" : \"Boto3-Test-Item\"})"
            ]
        },
        {
            "cell_type": "code",
            "execution_count": null,
            "metadata": {},
            "outputs": [],
            "source": [
                "# query for beef item, drill down to actual record entries\n",
                "\n",
                "beef_items = table.query(KeyConditionExpression=Key('id').eq('beef'))['Items'][0]['stores'][0]\n",
                "print(type(beef_items))\n",
                "beef_items\n"
            ]
        },
        {
            "cell_type": "code",
            "execution_count": null,
            "metadata": {},
            "outputs": [],
            "source": [
                "# convert json to DF\n",
                "\n",
                "# stop jupyter from cutting off any columns\n",
                "pd.set_option('display.max_columns', None)\n",
                "\n",
                "def urlToImg(url):\n",
                "    return '<img src=\"' + url + '\" width=\"85\" height=\"85\">'\n",
                "\n",
                "beefDF = json_normalize(beef_items, record_path=['products'], meta='name')\n",
                "beefDF['info.image.thumbnail'] = beefDF['info.image.thumbnail'].apply(urlToImg)\n",
                "\n",
                "# neccessary to render pics\n",
                "display(HTML(beefDF.to_html(escape=False)))\n"
            ]
        },
        {
            "cell_type": "code",
            "execution_count": null,
            "metadata": {},
            "outputs": [],
            "source": [
                "feature_list = ['sku', 'pricing.unit',\n",
                "                'pricing.displayPrice',\n",
                "                'pricing.salesQuantity', \n",
                "                'pricing.displayUnitPrice',\n",
                "                'pricing.list',\n",
                "                'info.image.thumbnail',\n",
                "                'info.name']\n",
                "\n",
                "\n",
                "display(HTML(beefDF[feature_list].to_html(escape=False)))\n"
            ]
        },
        {
            "cell_type": "code",
            "execution_count": null,
            "metadata": {},
            "outputs": [],
            "source": [
                "# same thing for milk\n",
                "\n",
                "milk_items = table.query(KeyConditionExpression=Key('id').eq('milk'))['Items'][0]['stores'][0]\n",
                "print(type(milk_items))\n",
                "milk_items\n"
            ]
        },
        {
            "cell_type": "code",
            "execution_count": null,
            "metadata": {},
            "outputs": [],
            "source": [
                "table.query(KeyConditionExpression=Key('id').eq('beef'))\n"
            ]
        }
    ],
    "metadata": {
        "interpreter": {
            "hash": "d77b571496fff8c344a1d91f0e77ddbfed18369bc571b0e47144150f1a232852"
        },
        "kernelspec": {
            "display_name": "Python 3.6.6 64-bit ('.venv': venv)",
            "name": "python3"
        },
        "language_info": {
            "codemirror_mode": {
                "name": "ipython",
                "version": 3
            },
            "file_extension": ".py",
            "mimetype": "text/x-python",
            "name": "python",
            "nbconvert_exporter": "python",
            "pygments_lexer": "ipython3",
            "version": "3.10.2"
        },
        "orig_nbformat": 4
    },
    "nbformat": 4,
    "nbformat_minor": 2
}
